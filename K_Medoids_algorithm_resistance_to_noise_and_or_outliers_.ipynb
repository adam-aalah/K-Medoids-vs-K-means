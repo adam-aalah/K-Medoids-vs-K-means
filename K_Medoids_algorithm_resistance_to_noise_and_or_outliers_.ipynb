{
  "nbformat": 4,
  "nbformat_minor": 0,
  "metadata": {
    "colab": {
      "name": "K-Medoids algorithm: resistance to noise and/or outliers .ipynb",
      "provenance": [],
      "collapsed_sections": []
    },
    "kernelspec": {
      "name": "python3",
      "display_name": "Python 3"
    },
    "language_info": {
      "name": "python"
    }
  },
  "cells": [
    {
      "cell_type": "markdown",
      "metadata": {
        "id": "cqXbIFaY9qL-"
      },
      "source": [
        "# **Introduction**\n",
        "\n",
        "Le clustering est une technique d'apprentissage automatique **non supervisée** qui divise la population ou les points de données en plusieurs groupes ou clusters en anglais.  Cette méthode est basée sur deux points, qui sont de regrouper :\n",
        "\n",
        "*   Les individus ayant des caractéristiques semblables dans un même cluster .\n",
        "*   Les individus ayant des caractéristiques dissemblables dans des clusters distincts.\n",
        "\n",
        "\n",
        "Plusieurs algorithmes aujourd'hui existent pour ce genre d'apprentissage notamment **K-mean et K-medoids**.\n",
        "Les algorithmes K-Means et K-Medoids sont des algorithmes de machine learning non supervisé. Ils fonctionnent sur une fixation de k nombre de clusters dans lesquels des individus similaires sont regroupés et les individus dissimilaires sont différés.\n",
        "\n",
        " \n",
        "De ce fait, l’objectif de ce travail est de determiner les avantages et inconvénients des deux algorithmes en comparant leur fonctionnement sur différents jeux de données. On étudiera ici la base de données des **'iris de Fisher'** ainsi que celle, plus grande, **mnist**."
      ]
    },
    {
      "cell_type": "markdown",
      "metadata": {
        "id": "KzK20T4CMoLU"
      },
      "source": [
        "# **I. Méthode de fonctionnement des deux algorithmes**\n"
      ]
    },
    {
      "cell_type": "markdown",
      "metadata": {
        "id": "-4GTtYxeNN1b"
      },
      "source": [
        "## *1. K-Means*\n",
        "\n",
        "\n",
        "\n",
        "\n"
      ]
    },
    {
      "cell_type": "markdown",
      "metadata": {
        "id": "3rm2oGlHNrVr"
      },
      "source": [
        "C’est l’un des algorithmes de clustering les plus répandus. \n",
        "\n",
        "La similarité entre deux données peut être décrite grâce à la “distance” séparant leurs descripteurs. Ainsi, deux données très similaires sont deux données dont les descripteurs sont très proches. Cette définition permet de formuler le problème de partitionnement des données comme la recherche de K “données prototypes”, autour desquelles peuvent être regroupées les autres données.\n",
        "\n",
        "Dans le cas de l'algortihmes K-means; ces données prototypes sont appelés **centroïdes**. Les objets sont assignés à un cluster sur la base du centroïde qui est proche d'eux en termes de distance.\n",
        "Un centroïde est le **point central** d'un cluster et se définit comme la moyenne des objets de ce groupe.\n",
        "\n",
        "\n",
        "L'erreur à minimiser s'écrit :\n",
        "\n",
        "<center> $ E = \\sum_{j=1}^{k} \\sum_{O_i \\in C_j} d^2(O_i,C_i)$ </center>\n",
        "où $C_i$ est le centroïde de la classe $i$. \n",
        "\n",
        "$d^2$ correspond à la distance Euclidienne définie par : $d^2(x_i,x_i')= \\sum_{j=1}^{p} ( x_{i}^j-x_{i'}^j)^2$"
      ]
    },
    {
      "cell_type": "markdown",
      "metadata": {
        "id": "qqHruvRgausM"
      },
      "source": [
        "**Algorithme du K-means**\n",
        "\n",
        "\n",
        "1. **Initialisation** : Sélectionner k objets dans l'ensembe de données -->  centroïdes initiaux.\n",
        "\n",
        "2. **Répéter** \\\\\n",
        "  i) Distribuer les objets aux clusters pertinents en fonction de la valeur moyenne moyenne dont il est le plus proche. \\\\\n",
        "  ii) Après avoir attribué de nouveaux objets à un groupe, calculez la nouvelle\n",
        "nouvelle moyenne de chaque groupe.\n",
        "\n",
        "3. **Arrêter** lorsque les centroïdes convergent\n",
        "\n",
        "Après avoir initialisé ses centroïdes en prenant des données au hasard dans le jeu de données, K-means alterne plusieurs fois ces deux étapes pour optimiser les centroïdes et leurs groupes :\n",
        "\n",
        "-   Regrouper chaque objet autour du centroïde le plus proche.\n",
        "-   Replacer chaque centroïde selon la moyenne des descripteurs de son groupe\n",
        "\n",
        "\n",
        "\n",
        "    "
      ]
    },
    {
      "cell_type": "markdown",
      "metadata": {
        "id": "d48OeFqLA_JR"
      },
      "source": [
        "**Complexité**\n",
        "\n",
        "<center> $C_{means} = O(t K n)$ </center> \n",
        "\n",
        "où \n",
        "\n",
        "  -  $n$ : nombre d'objets\n",
        "  -  $K$ : nombre de clusters \n",
        "  -  $t$ : nombre d'itérations\n",
        "\n",
        "\n"
      ]
    },
    {
      "cell_type": "markdown",
      "metadata": {
        "id": "-a2w_0xWNwZG"
      },
      "source": [
        "## *2. K-Medoids*"
      ]
    },
    {
      "cell_type": "markdown",
      "metadata": {
        "id": "xKzdm6LLN-5_"
      },
      "source": [
        "L'algorithme *k-medoids* est une approche de clustering liée au clustering *k-means* pour partitionner un ensemble de données en k groupes ou clusters. \n",
        "Dans le clustering k-medoids, chaque cluster est représenté par **l'un des points de données du cluster**. Ces points sont appelés **médoïdes** de cluster. Chaque point est candidat pour être médoïde.  \n",
        "\n",
        "\n",
        "\n",
        "L'erreur à minimiser est appelée *absolute - error criterion* et est définie par:\n",
        "\n",
        "<center> $ E = \\sum_{j=1}^{k} \\sum_{O_i \\in C_j} d(O_i,M_i)$ </center>\n",
        "où $M_i$ est le médoïde de la classe $i$. \n",
        "\n",
        "$d$ correspond à la distance de Manhattan définie par : $d(x_i,x_i')= \\sum_{j=1}^{p} \\lvert x_{i}^j-x_{i'}^j \\rvert$\n",
        "\n",
        "\\\\\n",
        "\n",
        "*NB :* Comme dans le clustering K-means, l'algorithme K-medoids demande à l'utilisateur de spécifier K, le nombre de clusters à générer. Une approche utile pour déterminer le nombre optimal de clusters est soit *la méthode de la silhouette* ou *la méthode du coude*."
      ]
    },
    {
      "cell_type": "markdown",
      "metadata": {
        "id": "c0I-OOvLOs-B"
      },
      "source": [
        "**Algorithme du K-medoids**\n",
        "\n",
        "La réalisation la plus courante du clustering k-médoïde est l'algorithme de partitionnement autour des médoïdes (PAM). PAM utilise une recherche gourmande qui peut ne pas trouver la solution optimale, mais elle est plus rapide qu'une recherche exhaustive. Cela fonctionne comme suit:\n",
        "\n",
        "\n",
        "\n",
        "1. **Initialisation** : Sélectionner k objets dans l'ensembe de données -->  médoïdes initiaux.\n",
        "\n",
        "2. **Répéter** \\\\\n",
        "  i) Distribuer les objets aux clusters pertinents en fonction de la valeur du médoïde dont il est le plus proche. \\\\\n",
        "  ii) Pour chaque médoïde $M$, et pour chaque point de données non médoïde $O_i$:\n",
        "  - Considérer l'échange de $M$ et $O_i$, et calculez  le changement de coût\n",
        "  - Si le coût diminue, on retient l' échange $O_i \\leftrightarrow M$ \n",
        "\n",
        "3. **Arrêter** lorsque les médoïdes convergent"
      ]
    },
    {
      "cell_type": "markdown",
      "metadata": {
        "id": "9zKCV_37_3Gw"
      },
      "source": [
        "**Complexité**\n",
        "\n",
        "<center> $C_{medoids} = O \\left(t K (n-K)^2)\\right) \\approx O\\left(tKn^2 \\right)$ </center> \n",
        "\n",
        "où \n",
        "\n",
        "  -  $n$ : nombre d'objets\n",
        "  -  $K$ : nombre de clusters \n",
        "  -  $t$ : nombre d'itérations\n",
        "\n",
        "\n"
      ]
    },
    {
      "cell_type": "markdown",
      "metadata": {
        "id": "YZmToAnV-3IF"
      },
      "source": [
        "# **II. Tests sur bases de données**\n",
        "\n",
        "\n"
      ]
    },
    {
      "cell_type": "markdown",
      "metadata": {
        "id": "MYPZmkIsXwnq"
      },
      "source": [
        "## 1. Base de données \"iris de Fisher\""
      ]
    },
    {
      "cell_type": "markdown",
      "metadata": {
        "id": "z8pnFgpz3xV4"
      },
      "source": [
        "Dans cette partie, la base de données étudiées est la base des **iris de Fisher**, qui contient 150 exemples d’iris décrites par 4 variables qui sont : la hauteur et la largeur du sépale (SepalLength and SepalWidth), la hauteur et la largeur du pétale (PetalLength and PetalWidth). L’expert (Mr Fisher) a identifié 3 classes pour ces iris dénommées Sétosa,Versicolor et Virginica. Ces classes seront utilisées pour le clustering. Les classes sont repérées par les indices 0, 1 ou 2."
      ]
    },
    {
      "cell_type": "markdown",
      "metadata": {
        "id": "MrvJHNiyYHi2"
      },
      "source": [
        "### *a) Données non bruitées*"
      ]
    },
    {
      "cell_type": "markdown",
      "metadata": {
        "id": "zQJxaEkK4Wld"
      },
      "source": [
        "On s'intéresse dans un premier temps aux données non bruitées et on compare la performance des deux algortithmes."
      ]
    },
    {
      "cell_type": "code",
      "metadata": {
        "colab": {
          "base_uri": "https://localhost:8080/"
        },
        "id": "6D7ESz-47zHo",
        "outputId": "315801ae-0fad-4da4-c051-079b9cc0b3e8"
      },
      "source": [
        "!pip install scikit-learn-extra"
      ],
      "execution_count": 84,
      "outputs": [
        {
          "output_type": "stream",
          "name": "stdout",
          "text": [
            "Requirement already satisfied: scikit-learn-extra in /usr/local/lib/python3.7/dist-packages (0.2.0)\n",
            "Requirement already satisfied: scikit-learn>=0.23.0 in /usr/local/lib/python3.7/dist-packages (from scikit-learn-extra) (1.0)\n",
            "Requirement already satisfied: scipy>=0.19.1 in /usr/local/lib/python3.7/dist-packages (from scikit-learn-extra) (1.4.1)\n",
            "Requirement already satisfied: numpy>=1.13.3 in /usr/local/lib/python3.7/dist-packages (from scikit-learn-extra) (1.19.5)\n",
            "Requirement already satisfied: joblib>=0.11 in /usr/local/lib/python3.7/dist-packages (from scikit-learn>=0.23.0->scikit-learn-extra) (1.0.1)\n",
            "Requirement already satisfied: threadpoolctl>=2.0.0 in /usr/local/lib/python3.7/dist-packages (from scikit-learn>=0.23.0->scikit-learn-extra) (3.0.0)\n"
          ]
        }
      ]
    },
    {
      "cell_type": "code",
      "metadata": {
        "id": "jjEWNv-Y7naW"
      },
      "source": [
        "import pandas as pd\n",
        "import numpy as np\n",
        "import matplotlib.pyplot as plt\n",
        "from mpl_toolkits.mplot3d import Axes3D\n",
        "from sklearn import datasets\n",
        "from sklearn.decomposition import PCA\n",
        "import seaborn as sns\n",
        "from sklearn.model_selection import train_test_split"
      ],
      "execution_count": 85,
      "outputs": []
    },
    {
      "cell_type": "code",
      "metadata": {
        "colab": {
          "base_uri": "https://localhost:8080/",
          "height": 206
        },
        "id": "2fYrbY9b7naa",
        "outputId": "af25187d-b593-468f-c33f-a2e665c964b2"
      },
      "source": [
        "iris = datasets.load_iris()\n",
        "data = pd.DataFrame(iris.data,columns = iris.feature_names)\n",
        "target = iris.target_names\n",
        "\n",
        "datapoints=data.values\n",
        "labels = iris.target\n",
        "\n",
        "data.head()"
      ],
      "execution_count": 86,
      "outputs": [
        {
          "output_type": "execute_result",
          "data": {
            "text/html": [
              "<div>\n",
              "<style scoped>\n",
              "    .dataframe tbody tr th:only-of-type {\n",
              "        vertical-align: middle;\n",
              "    }\n",
              "\n",
              "    .dataframe tbody tr th {\n",
              "        vertical-align: top;\n",
              "    }\n",
              "\n",
              "    .dataframe thead th {\n",
              "        text-align: right;\n",
              "    }\n",
              "</style>\n",
              "<table border=\"1\" class=\"dataframe\">\n",
              "  <thead>\n",
              "    <tr style=\"text-align: right;\">\n",
              "      <th></th>\n",
              "      <th>sepal length (cm)</th>\n",
              "      <th>sepal width (cm)</th>\n",
              "      <th>petal length (cm)</th>\n",
              "      <th>petal width (cm)</th>\n",
              "    </tr>\n",
              "  </thead>\n",
              "  <tbody>\n",
              "    <tr>\n",
              "      <th>0</th>\n",
              "      <td>5.1</td>\n",
              "      <td>3.5</td>\n",
              "      <td>1.4</td>\n",
              "      <td>0.2</td>\n",
              "    </tr>\n",
              "    <tr>\n",
              "      <th>1</th>\n",
              "      <td>4.9</td>\n",
              "      <td>3.0</td>\n",
              "      <td>1.4</td>\n",
              "      <td>0.2</td>\n",
              "    </tr>\n",
              "    <tr>\n",
              "      <th>2</th>\n",
              "      <td>4.7</td>\n",
              "      <td>3.2</td>\n",
              "      <td>1.3</td>\n",
              "      <td>0.2</td>\n",
              "    </tr>\n",
              "    <tr>\n",
              "      <th>3</th>\n",
              "      <td>4.6</td>\n",
              "      <td>3.1</td>\n",
              "      <td>1.5</td>\n",
              "      <td>0.2</td>\n",
              "    </tr>\n",
              "    <tr>\n",
              "      <th>4</th>\n",
              "      <td>5.0</td>\n",
              "      <td>3.6</td>\n",
              "      <td>1.4</td>\n",
              "      <td>0.2</td>\n",
              "    </tr>\n",
              "  </tbody>\n",
              "</table>\n",
              "</div>"
            ],
            "text/plain": [
              "   sepal length (cm)  sepal width (cm)  petal length (cm)  petal width (cm)\n",
              "0                5.1               3.5                1.4               0.2\n",
              "1                4.9               3.0                1.4               0.2\n",
              "2                4.7               3.2                1.3               0.2\n",
              "3                4.6               3.1                1.5               0.2\n",
              "4                5.0               3.6                1.4               0.2"
            ]
          },
          "metadata": {},
          "execution_count": 86
        }
      ]
    },
    {
      "cell_type": "code",
      "metadata": {
        "colab": {
          "base_uri": "https://localhost:8080/",
          "height": 744
        },
        "id": "gh62CXTT7nad",
        "outputId": "ded0c659-5dbf-4e0d-b72e-6c6dc0b1c6c8"
      },
      "source": [
        "sns.pairplot(data)"
      ],
      "execution_count": 87,
      "outputs": [
        {
          "output_type": "execute_result",
          "data": {
            "text/plain": [
              "<seaborn.axisgrid.PairGrid at 0x7f331335d210>"
            ]
          },
          "metadata": {},
          "execution_count": 87
        },
        {
          "output_type": "display_data",
          "data": {
            "image/png": "[encoded data removed]",
            "text/plain": [
              "<Figure size 720x720 with 20 Axes>"
            ]
          },
          "metadata": {
            "needs_background": "light"
          }
        }
      ]
    },
    {
      "cell_type": "code",
      "metadata": {
        "colab": {
          "base_uri": "https://localhost:8080/",
          "height": 464
        },
        "id": "MZ1viG0y7naf",
        "outputId": "77a0abc5-ba27-4858-bb5c-80a5ce56d902"
      },
      "source": [
        "fig = plt.figure(figsize=(10,7))\n",
        "ax = fig.add_subplot(111)\n",
        "ax.set_title('La distribution des points de toutes les variables avant clustering', fontsize=15)\n",
        "plt.scatter(data.values[:,0],data.values[:,1])"
      ],
      "execution_count": 88,
      "outputs": [
        {
          "output_type": "execute_result",
          "data": {
            "text/plain": [
              "<matplotlib.collections.PathCollection at 0x7f3312cb60d0>"
            ]
          },
          "metadata": {},
          "execution_count": 88
        },
        {
          "output_type": "display_data",
          "data": {
            "image/png": "[encoded data removed]",
            "text/plain": [
              "<Figure size 720x504 with 1 Axes>"
            ]
          },
          "metadata": {
            "needs_background": "light"
          }
        }
      ]
    },
    {
      "cell_type": "markdown",
      "metadata": {
        "id": "pwQtro6q7nah"
      },
      "source": [
        "En nous basant sur la longueur et la largeur de chaque sépale, on peut afficher, dans un plan 2D, les différentes fleurs de notre jeu de données."
      ]
    },
    {
      "cell_type": "markdown",
      "metadata": {
        "id": "igPWD9Zj7naj"
      },
      "source": [
        "On constate qu'à partir de la représentation des nuages de points, on ne peut distinguer que deux classes, cependant le choix de k (nombre de classes) ne doit pas être subjectif, parcontre on doit s'appuyer sur des critères bien particuliers qu'on précisera par la suite.\n",
        "\n",
        "\n",
        "\n",
        "![Screenshot 2021-10-06 214903.jpg](data:image/jpeg;base64,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)"
      ]
    },
    {
      "cell_type": "markdown",
      "metadata": {
        "id": "P-rNlM-t3GJj"
      },
      "source": [
        "#### K-Means"
      ]
    },
    {
      "cell_type": "markdown",
      "metadata": {
        "id": "BYJnr7wz9zA0"
      },
      "source": [
        "On prend ici le même nombre de classes, i.e. 3, afin de pouvoir comparer les performances des 2 algorithmes."
      ]
    },
    {
      "cell_type": "code",
      "metadata": {
        "id": "dTRdNOlP9oUD"
      },
      "source": [
        "from sklearn.cluster import KMeans\n",
        "\n",
        "kmeans = KMeans(init=\"k-means++\", n_clusters= 3, n_init=4).fit(datapoints)"
      ],
      "execution_count": 89,
      "outputs": []
    },
    {
      "cell_type": "code",
      "metadata": {
        "colab": {
          "base_uri": "https://localhost:8080/"
        },
        "id": "R4K1UtPF-E6o",
        "outputId": "ddfcce06-99e4-4eb4-c907-73b9330bf2b4"
      },
      "source": [
        "kmeans.labels_"
      ],
      "execution_count": 90,
      "outputs": [
        {
          "output_type": "execute_result",
          "data": {
            "text/plain": [
              "array([1, 1, 1, 1, 1, 1, 1, 1, 1, 1, 1, 1, 1, 1, 1, 1, 1, 1, 1, 1, 1, 1,\n",
              "       1, 1, 1, 1, 1, 1, 1, 1, 1, 1, 1, 1, 1, 1, 1, 1, 1, 1, 1, 1, 1, 1,\n",
              "       1, 1, 1, 1, 1, 1, 0, 0, 2, 0, 0, 0, 0, 0, 0, 0, 0, 0, 0, 0, 0, 0,\n",
              "       0, 0, 0, 0, 0, 0, 0, 0, 0, 0, 0, 2, 0, 0, 0, 0, 0, 0, 0, 0, 0, 0,\n",
              "       0, 0, 0, 0, 0, 0, 0, 0, 0, 0, 0, 0, 2, 0, 2, 2, 2, 2, 0, 2, 2, 2,\n",
              "       2, 2, 2, 0, 0, 2, 2, 2, 2, 0, 2, 0, 2, 0, 2, 2, 0, 0, 2, 2, 2, 2,\n",
              "       2, 0, 2, 2, 2, 2, 0, 2, 2, 2, 0, 2, 2, 2, 0, 2, 2, 0], dtype=int32)"
            ]
          },
          "metadata": {},
          "execution_count": 90
        }
      ]
    },
    {
      "cell_type": "markdown",
      "metadata": {
        "id": "n09K9NvKfB5d"
      },
      "source": [
        "Le tableau qu’on voit  ci-dessus représente le numéro de cluster affecté à chaque fleur. Vu qu’on a demandé un regroupement en trois clusters, on en a trois intitulés: cluster 0, cluster 1, cluster 2. "
      ]
    },
    {
      "cell_type": "markdown",
      "metadata": {
        "id": "Lw-hKCed3cFg"
      },
      "source": [
        "On peut calculer la valeur finale des centroïdes, représentée dans le tableau ci-dessous."
      ]
    },
    {
      "cell_type": "markdown",
      "metadata": {
        "id": "nMZDm9vm3b_j"
      },
      "source": [
        ""
      ]
    },
    {
      "cell_type": "code",
      "metadata": {
        "colab": {
          "base_uri": "https://localhost:8080/"
        },
        "id": "DVThgqvW-Loy",
        "outputId": "bd93c566-ce97-473b-a96d-4db1867f71c7"
      },
      "source": [
        "centers=kmeans.cluster_centers_\n",
        "centers"
      ],
      "execution_count": 91,
      "outputs": [
        {
          "output_type": "execute_result",
          "data": {
            "text/plain": [
              "array([[5.9016129 , 2.7483871 , 4.39354839, 1.43387097],\n",
              "       [5.006     , 3.428     , 1.462     , 0.246     ],\n",
              "       [6.85      , 3.07368421, 5.74210526, 2.07105263]])"
            ]
          },
          "metadata": {},
          "execution_count": 91
        }
      ]
    },
    {
      "cell_type": "code",
      "metadata": {
        "colab": {
          "base_uri": "https://localhost:8080/",
          "height": 463
        },
        "id": "nvpvjErV-Xjs",
        "outputId": "0dffd041-ad64-4f6d-e68c-bd75be37478d"
      },
      "source": [
        "pca = PCA(n_components=2)\n",
        "pca.fit(datapoints)\n",
        "X_pca_test = pca.transform(datapoints)\n",
        "X_pca_centre = pca.transform(centers)\n",
        "target_= labels \n",
        "labels_ = np.unique(target_) \n",
        "color=['y','g','b']\n",
        "\n",
        "fig = plt.figure(figsize=(10,7))\n",
        "ax = fig.add_subplot(111)\n",
        "ax.set_title('Resultat du clustering par k-means',fontsize=15 )\n",
        "ax.set_xlabel('Dimension 1', fontsize=12)\n",
        "ax.set_ylabel('Dimension 2', fontsize=12)\n",
        "for i,l in enumerate(kmeans.labels_):\n",
        "    plt.plot(X_pca_test[i,0],X_pca_test[i,1],color[l]+'.')\n",
        "for center in X_pca_centre:\n",
        "    plt.plot(center[0],center[1],\"k\"+'*')"
      ],
      "execution_count": 92,
      "outputs": [
        {
          "output_type": "display_data",
          "data": {
            "image/png": "[encoded data removed]",
            "text/plain": [
              "<Figure size 720x504 with 1 Axes>"
            ]
          },
          "metadata": {
            "needs_background": "light"
          }
        }
      ]
    },
    {
      "cell_type": "markdown",
      "metadata": {
        "id": "e88-3wU4dax7"
      },
      "source": [
        "On remarque que le centre d'un cluster pour les K-Means est la moyenne."
      ]
    },
    {
      "cell_type": "code",
      "metadata": {
        "colab": {
          "base_uri": "https://localhost:8080/",
          "height": 81
        },
        "id": "UmsNW3tQAUMt",
        "outputId": "56ec70a6-3bca-47f8-c0fa-39e4afd046c7"
      },
      "source": [
        "n0 = np.bincount(kmeans.labels_)[0]\n",
        "n1 = np.bincount(kmeans.labels_)[1]\n",
        "n2 = np.bincount(kmeans.labels_)[2]\n",
        "\n",
        "effectifs_kmeans = np.reshape([n0,n1,n2],(1,3))\n",
        "\n",
        "classif = pd.DataFrame(effectifs_kmeans, index=[\"Population\"], columns=[\"C1\", \"C2\", \"C3\"])\n",
        "classif"
      ],
      "execution_count": 93,
      "outputs": [
        {
          "output_type": "execute_result",
          "data": {
            "text/html": [
              "<div>\n",
              "<style scoped>\n",
              "    .dataframe tbody tr th:only-of-type {\n",
              "        vertical-align: middle;\n",
              "    }\n",
              "\n",
              "    .dataframe tbody tr th {\n",
              "        vertical-align: top;\n",
              "    }\n",
              "\n",
              "    .dataframe thead th {\n",
              "        text-align: right;\n",
              "    }\n",
              "</style>\n",
              "<table border=\"1\" class=\"dataframe\">\n",
              "  <thead>\n",
              "    <tr style=\"text-align: right;\">\n",
              "      <th></th>\n",
              "      <th>C1</th>\n",
              "      <th>C2</th>\n",
              "      <th>C3</th>\n",
              "    </tr>\n",
              "  </thead>\n",
              "  <tbody>\n",
              "    <tr>\n",
              "      <th>Population</th>\n",
              "      <td>62</td>\n",
              "      <td>50</td>\n",
              "      <td>38</td>\n",
              "    </tr>\n",
              "  </tbody>\n",
              "</table>\n",
              "</div>"
            ],
            "text/plain": [
              "            C1  C2  C3\n",
              "Population  62  50  38"
            ]
          },
          "metadata": {},
          "execution_count": 93
        }
      ]
    },
    {
      "cell_type": "markdown",
      "metadata": {
        "id": "Rtt9ZyTi2YAY"
      },
      "source": [
        "#### K-Medoids"
      ]
    },
    {
      "cell_type": "code",
      "metadata": {
        "id": "Wtu_i5ByA87F"
      },
      "source": [
        "\n",
        "from sklearn_extra.cluster import KMedoids\n",
        "import numpy as np"
      ],
      "execution_count": 94,
      "outputs": []
    },
    {
      "cell_type": "markdown",
      "metadata": {
        "id": "pb21oQE3D7ik"
      },
      "source": [
        "L'une des méthodes pour trouver le nombre optimum des clusters est la méthode du coude"
      ]
    },
    {
      "cell_type": "code",
      "metadata": {
        "colab": {
          "base_uri": "https://localhost:8080/",
          "height": 297
        },
        "id": "yEBwHI4VEQVp",
        "outputId": "9cc5aaea-93df-455e-be80-0a492e2dde0c"
      },
      "source": [
        "wcss = [] #within cluster sum of squares\n",
        "for i in range (1,11):\n",
        "  kmedoids = KMedoids(n_clusters=i, init='k-medoids++',max_iter=300, random_state=0)\n",
        "  kmedoids.fit(datapoints)\n",
        "  wcss.append(kmedoids.inertia_)\n",
        "\n",
        "#plot\n",
        "plt.plot(range (1,11),wcss)\n",
        "plt.title(\"Méthode du coude\",fontsize=15)\n",
        "plt.xlabel(\"Nombre des clusters\")\n",
        "plt.ylabel(\"score\")\n",
        "plt.show()"
      ],
      "execution_count": 95,
      "outputs": [
        {
          "output_type": "display_data",
          "data": {
            "image/png": "[encoded data removed]",
            "text/plain": [
              "<Figure size 432x288 with 1 Axes>"
            ]
          },
          "metadata": {
            "needs_background": "light"
          }
        }
      ]
    },
    {
      "cell_type": "markdown",
      "metadata": {
        "id": "tZjZ3DuHKGqh"
      },
      "source": [
        "D'après la méthode de coude on trouve que le nombre optimum des clusters est 3."
      ]
    },
    {
      "cell_type": "code",
      "metadata": {
        "id": "dJQdrnHqA_Mh"
      },
      "source": [
        "kmedoids = KMedoids(metric=\"euclidean\",n_clusters=3, random_state=0).fit(datapoints)"
      ],
      "execution_count": 96,
      "outputs": []
    },
    {
      "cell_type": "code",
      "metadata": {
        "colab": {
          "base_uri": "https://localhost:8080/"
        },
        "id": "wEoLjBFDBA5e",
        "outputId": "96525e8c-b9c2-4f18-d503-fd1c87103e0b"
      },
      "source": [
        "kmedoids.labels_"
      ],
      "execution_count": 97,
      "outputs": [
        {
          "output_type": "execute_result",
          "data": {
            "text/plain": [
              "array([2, 2, 2, 2, 2, 2, 2, 2, 2, 2, 2, 2, 2, 2, 2, 2, 2, 2, 2, 2, 2, 2,\n",
              "       2, 2, 2, 2, 2, 2, 2, 2, 2, 2, 2, 2, 2, 2, 2, 2, 2, 2, 2, 2, 2, 2,\n",
              "       2, 2, 2, 2, 2, 2, 0, 0, 0, 1, 0, 1, 0, 1, 0, 1, 1, 1, 1, 1, 1, 0,\n",
              "       1, 1, 1, 1, 0, 1, 0, 1, 1, 1, 0, 0, 1, 1, 1, 1, 1, 0, 1, 1, 0, 1,\n",
              "       1, 1, 1, 1, 1, 1, 1, 1, 1, 1, 1, 1, 0, 0, 0, 0, 0, 0, 1, 0, 0, 0,\n",
              "       0, 0, 0, 0, 0, 0, 0, 0, 0, 0, 0, 0, 0, 0, 0, 0, 0, 0, 0, 0, 0, 0,\n",
              "       0, 0, 0, 0, 0, 0, 0, 0, 0, 0, 0, 0, 0, 0, 0, 0, 0, 0])"
            ]
          },
          "metadata": {},
          "execution_count": 97
        }
      ]
    },
    {
      "cell_type": "markdown",
      "metadata": {
        "id": "RX6oABd1BC_h"
      },
      "source": [
        "Le tableau  ci-dessus représente le numéro de cluster affecté à chaque fleur. Vu qu’on a demandé un regroupement en trois clusters, on en a trois intitulé cluster 0, cluster 1, cluster 2."
      ]
    },
    {
      "cell_type": "code",
      "metadata": {
        "colab": {
          "base_uri": "https://localhost:8080/"
        },
        "id": "8Tr1rtYwBDb6",
        "outputId": "27a396ea-9359-441f-c32f-708a17439d81"
      },
      "source": [
        "centers=kmedoids.cluster_centers_\n",
        "centers"
      ],
      "execution_count": 98,
      "outputs": [
        {
          "output_type": "execute_result",
          "data": {
            "text/plain": [
              "array([[6.5, 3. , 5.2, 2. ],\n",
              "       [5.7, 2.8, 4.1, 1.3],\n",
              "       [5. , 3.4, 1.5, 0.2]])"
            ]
          },
          "metadata": {},
          "execution_count": 98
        }
      ]
    },
    {
      "cell_type": "code",
      "metadata": {
        "colab": {
          "base_uri": "https://localhost:8080/",
          "height": 463
        },
        "id": "PaCtUvb2AY57",
        "outputId": "5027a1ab-256c-44ba-f1d2-f7fab495e6a2"
      },
      "source": [
        "# Test d'une modification du code\n",
        "\n",
        "pca = PCA(n_components=2)\n",
        "pca.fit(datapoints)\n",
        "X_pca_test = pca.transform(datapoints)\n",
        "X_pca_centre = pca.transform(centers)\n",
        "target_= labels\n",
        "labels_ = np.unique(target_)\n",
        "color=['y','g','b']\n",
        "\n",
        "fig = plt.figure(figsize=(10,7))\n",
        "ax = fig.add_subplot(111)\n",
        "ax.set_title('Resultat du clustering par k-medoids',fontsize=15 )\n",
        "ax.set_xlabel('Dimension 1', fontsize=12)\n",
        "ax.set_ylabel('Dimension 2', fontsize=12)\n",
        "for i,l in enumerate(kmedoids.labels_):     # MODIF\n",
        "    plt.plot(X_pca_test[i,0],X_pca_test[i,1],color[l]+'.',label = f'C{l}')\n",
        "for center in X_pca_centre:\n",
        "    plt.plot(center[0],center[1],\"k\"+'*',label = 'Centroids')\n",
        "#plt.legend()                                                               "
      ],
      "execution_count": 99,
      "outputs": [
        {
          "output_type": "display_data",
          "data": {
            "image/png": "[encoded data removed]",
            "text/plain": [
              "<Figure size 720x504 with 1 Axes>"
            ]
          },
          "metadata": {
            "needs_background": "light"
          }
        }
      ]
    },
    {
      "cell_type": "code",
      "metadata": {
        "colab": {
          "base_uri": "https://localhost:8080/"
        },
        "id": "Q-h7nDRIBcEl",
        "outputId": "89825d5f-44f5-436d-f525-200eb52d0db5"
      },
      "source": [
        "X_pca_centre"
      ],
      "execution_count": 100,
      "outputs": [
        {
          "output_type": "execute_result",
          "data": {
            "text/plain": [
              "array([[ 1.76434572,  0.07885885],\n",
              "       [ 0.29900084, -0.34889781],\n",
              "       [-2.62614497,  0.16338496]])"
            ]
          },
          "metadata": {},
          "execution_count": 100
        }
      ]
    },
    {
      "cell_type": "markdown",
      "metadata": {
        "id": "G_5UMLN1CDTP"
      },
      "source": [
        "Après application de l'algorithme des k-medoids on obtient les résultats de la figure ci-dessus, dont les médoïdes finals de chaque classe (étoile noir) est un point de données réel."
      ]
    },
    {
      "cell_type": "code",
      "metadata": {
        "colab": {
          "base_uri": "https://localhost:8080/",
          "height": 81
        },
        "id": "6RlIeAJl3IGI",
        "outputId": "af87be4d-f75f-44d8-fe90-8f797c651982"
      },
      "source": [
        "n0 = np.bincount(kmedoids.labels_)[0]\n",
        "n1 = np.bincount(kmedoids.labels_)[1]\n",
        "n2 = np.bincount(kmedoids.labels_)[2]\n",
        "\n",
        "effectifs_kmedoids = np.reshape([n0,n1,n2],(1,3))\n",
        "\n",
        "classif = pd.DataFrame(effectifs_kmedoids, index=[\"Population\"], columns=[\"C1\", \"C2\", \"C3\"])\n",
        "classif"
      ],
      "execution_count": 101,
      "outputs": [
        {
          "output_type": "execute_result",
          "data": {
            "text/html": [
              "<div>\n",
              "<style scoped>\n",
              "    .dataframe tbody tr th:only-of-type {\n",
              "        vertical-align: middle;\n",
              "    }\n",
              "\n",
              "    .dataframe tbody tr th {\n",
              "        vertical-align: top;\n",
              "    }\n",
              "\n",
              "    .dataframe thead th {\n",
              "        text-align: right;\n",
              "    }\n",
              "</style>\n",
              "<table border=\"1\" class=\"dataframe\">\n",
              "  <thead>\n",
              "    <tr style=\"text-align: right;\">\n",
              "      <th></th>\n",
              "      <th>C1</th>\n",
              "      <th>C2</th>\n",
              "      <th>C3</th>\n",
              "    </tr>\n",
              "  </thead>\n",
              "  <tbody>\n",
              "    <tr>\n",
              "      <th>Population</th>\n",
              "      <td>62</td>\n",
              "      <td>38</td>\n",
              "      <td>50</td>\n",
              "    </tr>\n",
              "  </tbody>\n",
              "</table>\n",
              "</div>"
            ],
            "text/plain": [
              "            C1  C2  C3\n",
              "Population  62  38  50"
            ]
          },
          "metadata": {},
          "execution_count": 101
        }
      ]
    },
    {
      "cell_type": "markdown",
      "metadata": {
        "id": "G-yT91ciZ4a0"
      },
      "source": [
        "### *b) Données bruitées*"
      ]
    },
    {
      "cell_type": "code",
      "metadata": {
        "id": "3IXAsIEBi6Up"
      },
      "source": [
        "def fix_order(datapoints,centers, labels ):\n",
        "  centers=[list(c)for c in centers]\n",
        "  datapoints=[list(d) for d in datapoints]\n",
        "  centers_classes =[centers.index(center ) for center in centers]\n",
        "  fix= [ (centers[i],i) for i in range(len(centers)) ]\n",
        "  fix.sort() \n",
        "  sorted_centers,permutation = zip(*fix)\n",
        "  new_centers_classes=[1,0,2]\n",
        "\n",
        "  perm={}\n",
        "  for old, new in zip(centers_classes,new_centers_classes):\n",
        "    perm[old]=new\n",
        "  return [perm[old_label] for old_label in labels ]\n"
      ],
      "execution_count": 102,
      "outputs": []
    },
    {
      "cell_type": "markdown",
      "metadata": {
        "id": "1yAK2Vt0hKa1"
      },
      "source": [
        "Essayons d'ajouter un point aberrant à notre jeu de données pour voir comment les deux algorithme se comportent, et voir comment K-means est sensible aux points aberrants."
      ]
    },
    {
      "cell_type": "code",
      "metadata": {
        "colab": {
          "base_uri": "https://localhost:8080/",
          "height": 300
        },
        "id": "-Q852yuIhxPe",
        "outputId": "e3a57f4e-7b5e-4b84-bad1-bd56d18f9d15"
      },
      "source": [
        "data.describe()"
      ],
      "execution_count": 103,
      "outputs": [
        {
          "output_type": "execute_result",
          "data": {
            "text/html": [
              "<div>\n",
              "<style scoped>\n",
              "    .dataframe tbody tr th:only-of-type {\n",
              "        vertical-align: middle;\n",
              "    }\n",
              "\n",
              "    .dataframe tbody tr th {\n",
              "        vertical-align: top;\n",
              "    }\n",
              "\n",
              "    .dataframe thead th {\n",
              "        text-align: right;\n",
              "    }\n",
              "</style>\n",
              "<table border=\"1\" class=\"dataframe\">\n",
              "  <thead>\n",
              "    <tr style=\"text-align: right;\">\n",
              "      <th></th>\n",
              "      <th>sepal length (cm)</th>\n",
              "      <th>sepal width (cm)</th>\n",
              "      <th>petal length (cm)</th>\n",
              "      <th>petal width (cm)</th>\n",
              "    </tr>\n",
              "  </thead>\n",
              "  <tbody>\n",
              "    <tr>\n",
              "      <th>count</th>\n",
              "      <td>150.000000</td>\n",
              "      <td>150.000000</td>\n",
              "      <td>150.000000</td>\n",
              "      <td>150.000000</td>\n",
              "    </tr>\n",
              "    <tr>\n",
              "      <th>mean</th>\n",
              "      <td>5.843333</td>\n",
              "      <td>3.057333</td>\n",
              "      <td>3.758000</td>\n",
              "      <td>1.199333</td>\n",
              "    </tr>\n",
              "    <tr>\n",
              "      <th>std</th>\n",
              "      <td>0.828066</td>\n",
              "      <td>0.435866</td>\n",
              "      <td>1.765298</td>\n",
              "      <td>0.762238</td>\n",
              "    </tr>\n",
              "    <tr>\n",
              "      <th>min</th>\n",
              "      <td>4.300000</td>\n",
              "      <td>2.000000</td>\n",
              "      <td>1.000000</td>\n",
              "      <td>0.100000</td>\n",
              "    </tr>\n",
              "    <tr>\n",
              "      <th>25%</th>\n",
              "      <td>5.100000</td>\n",
              "      <td>2.800000</td>\n",
              "      <td>1.600000</td>\n",
              "      <td>0.300000</td>\n",
              "    </tr>\n",
              "    <tr>\n",
              "      <th>50%</th>\n",
              "      <td>5.800000</td>\n",
              "      <td>3.000000</td>\n",
              "      <td>4.350000</td>\n",
              "      <td>1.300000</td>\n",
              "    </tr>\n",
              "    <tr>\n",
              "      <th>75%</th>\n",
              "      <td>6.400000</td>\n",
              "      <td>3.300000</td>\n",
              "      <td>5.100000</td>\n",
              "      <td>1.800000</td>\n",
              "    </tr>\n",
              "    <tr>\n",
              "      <th>max</th>\n",
              "      <td>7.900000</td>\n",
              "      <td>4.400000</td>\n",
              "      <td>6.900000</td>\n",
              "      <td>2.500000</td>\n",
              "    </tr>\n",
              "  </tbody>\n",
              "</table>\n",
              "</div>"
            ],
            "text/plain": [
              "       sepal length (cm)  sepal width (cm)  petal length (cm)  petal width (cm)\n",
              "count         150.000000        150.000000         150.000000        150.000000\n",
              "mean            5.843333          3.057333           3.758000          1.199333\n",
              "std             0.828066          0.435866           1.765298          0.762238\n",
              "min             4.300000          2.000000           1.000000          0.100000\n",
              "25%             5.100000          2.800000           1.600000          0.300000\n",
              "50%             5.800000          3.000000           4.350000          1.300000\n",
              "75%             6.400000          3.300000           5.100000          1.800000\n",
              "max             7.900000          4.400000           6.900000          2.500000"
            ]
          },
          "metadata": {},
          "execution_count": 103
        }
      ]
    },
    {
      "cell_type": "code",
      "metadata": {
        "colab": {
          "base_uri": "https://localhost:8080/"
        },
        "id": "g9GO48oigbe7",
        "outputId": "4c1d8734-d58c-4ec6-8bc9-0e789b09e6e9"
      },
      "source": [
        "point_aberrant = np.array([6., 10., 3., -1.], order='F')\n",
        "datapoints=np.vstack([datapoints,point_aberrant])\n",
        "labels=np.append(labels,0)\n",
        "#KMedoids\n",
        "kmedoids = KMedoids(metric=\"manhattan\",n_clusters=3, random_state=0).fit(datapoints)\n",
        "pca = PCA(n_components=2)\n",
        "pca.fit(datapoints)\n",
        "centers=kmedoids.cluster_centers_\n",
        "y_predic_KMed = fix_order(datapoints,centers,kmedoids.predict(datapoints))\n",
        "\n",
        "#KMeans\n",
        "model=KMeans(n_clusters=3).fit(datapoints)\n",
        "centres=model.cluster_centers_ #les centroides\n",
        "y_predic_KMeans = fix_order(datapoints,centres,model.predict(datapoints))\n",
        "\n",
        "#comparaison de perfomance\n",
        "\n",
        "print( \"Accuracy of K-Means : \",(labels==y_predic_KMeans).sum()/len(labels)*100 )\n",
        "print( \"Accuracy of K-Medoids : \",(labels==y_predic_KMed).sum()/len(labels)*100 )"
      ],
      "execution_count": 104,
      "outputs": [
        {
          "output_type": "stream",
          "name": "stdout",
          "text": [
            "Accuracy of K-Means :  44.370860927152314\n",
            "Accuracy of K-Medoids :  90.06622516556291\n"
          ]
        }
      ]
    },
    {
      "cell_type": "markdown",
      "metadata": {
        "id": "eYiJBUMi7G3k"
      },
      "source": [
        "K-Means est un algorithme de clustering, peut-être le plus connu. Le centre d'un cluster pour les K-Means est la moyenne. Par conséquent, il est sensible aux valeurs aberrantes."
      ]
    },
    {
      "cell_type": "code",
      "metadata": {
        "colab": {
          "base_uri": "https://localhost:8080/",
          "height": 464
        },
        "id": "mGajXnCaijHJ",
        "outputId": "d037cf4e-89fb-4fb7-ce6b-abf01fe6b6bc"
      },
      "source": [
        "target= y_predic_KMeans\n",
        "X_pca_test = pca.transform(datapoints)\n",
        "X_pca_centre = pca.transform(centers)\n",
        "labels_ = np.unique(target)\n",
        "color=['r','g','b']\n",
        "fig = plt.figure(figsize=(10,7))\n",
        "ax = fig.add_subplot(111)\n",
        "plt.xlabel('dimension 1',fontsize=12)\n",
        "plt.ylabel('dimension 2',fontsize=12)\n",
        "plt.title('Clustering des données après l\\'ajout du point aberrant',fontsize=15)\n",
        "for l in labels_:\n",
        "    plt.plot(X_pca_test[np.where(target==l),0],X_pca_test[np.where(target==l),1],color[l]+'.')\n",
        "for center in X_pca_centre:\n",
        "    plt.plot(center[0],center[1],\"k\"+'*')"
      ],
      "execution_count": 105,
      "outputs": [
        {
          "output_type": "display_data",
          "data": {
            "image/png": "[encoded data removed]",
            "text/plain": [
              "<Figure size 720x504 with 1 Axes>"
            ]
          },
          "metadata": {
            "needs_background": "light"
          }
        }
      ]
    },
    {
      "cell_type": "markdown",
      "metadata": {
        "id": "_gm0ZTZCClq3"
      },
      "source": [
        "#2. Base de données de grande taille\n",
        "On va utiliser la base MNIST qui est une base de données de chiffres écrits à la main, et qui dispose de 60000 données d'apprentissage et 10000 données de test"
      ]
    },
    {
      "cell_type": "code",
      "metadata": {
        "id": "dIlqcYa7C00b"
      },
      "source": [
        "import keras\n",
        "from keras.datasets import mnist \n",
        "import numpy as np\n",
        "import matplotlib.pyplot as plt\n",
        "from sklearn.preprocessing import StandardScaler\n",
        "from sklearn.cluster import KMeans\n",
        "#Loading the dataset\n",
        "(X_train,y_train), (X_test,y_test) = mnist.load_data()"
      ],
      "execution_count": 106,
      "outputs": []
    },
    {
      "cell_type": "code",
      "metadata": {
        "colab": {
          "base_uri": "https://localhost:8080/"
        },
        "id": "nrXCWPgXGEIl",
        "outputId": "085ee8d9-e2e0-40d5-f869-a651b7cc7da8"
      },
      "source": [
        "print(f'Training Data: {X_train.shape}')\n",
        "print(f'Training labels: {y_train.shape}')\n",
        "\n",
        "\n",
        "print(f'Testing Data: {X_test.shape}')\n",
        "print(f'Testing Labels: {y_test.shape}')\n"
      ],
      "execution_count": 107,
      "outputs": [
        {
          "output_type": "stream",
          "name": "stdout",
          "text": [
            "Training Data: (60000, 28, 28)\n",
            "Training labels: (60000,)\n",
            "Testing Data: (10000, 28, 28)\n",
            "Testing Labels: (10000,)\n"
          ]
        }
      ]
    },
    {
      "cell_type": "code",
      "metadata": {
        "colab": {
          "base_uri": "https://localhost:8080/",
          "height": 709
        },
        "id": "hdvPz-dRFMQV",
        "outputId": "9440846a-92d8-475f-acb5-71282ff8329e"
      },
      "source": [
        "fig, axs = plt.subplots(3, 3, figsize = (12, 12))\n",
        "plt.gray()\n",
        "\n",
        "for i, ax in enumerate(axs.flat):\n",
        "  ax.matshow(X_train[i])\n",
        "  ax.axis('off')\n",
        "  ax.set_title(f'Number {y_train[i]}')\n",
        "\n",
        "fig.show()"
      ],
      "execution_count": 108,
      "outputs": [
        {
          "output_type": "display_data",
          "data": {
            "image/png": "[encoded data removed]",
            "text/plain": [
              "<Figure size 864x864 with 9 Axes>"
            ]
          },
          "metadata": {
            "needs_background": "light"
          }
        }
      ]
    },
    {
      "cell_type": "markdown",
      "metadata": {
        "id": "gHD0pnkDGofF"
      },
      "source": [
        "*On pré-traite les données en effectuant un reshape pour obtenir des array de longueurs 784 (28x28) et on les normalise*"
      ]
    },
    {
      "cell_type": "code",
      "metadata": {
        "colab": {
          "base_uri": "https://localhost:8080/"
        },
        "id": "dmvXI6hHGBs8",
        "outputId": "01f03515-b03d-4416-f976-5219bee2e8cf"
      },
      "source": [
        "\n",
        "X = X_train.reshape(len(X_train),-1)\n",
        "Y = y_train\n",
        "\n",
        "\n",
        "X = X.astype(float) / 255.\n",
        "\n",
        "print(X.shape)\n",
        "print(X[0].shape)"
      ],
      "execution_count": 109,
      "outputs": [
        {
          "output_type": "stream",
          "name": "stdout",
          "text": [
            "(60000, 784)\n",
            "(784,)\n"
          ]
        }
      ]
    },
    {
      "cell_type": "markdown",
      "metadata": {
        "id": "Y925vrb6HSI3"
      },
      "source": [
        "*On réalise maintenant le modèle en initialisant avec 9 clusters (9 digits)*"
      ]
    },
    {
      "cell_type": "code",
      "metadata": {
        "id": "vEyF2JDvG9Ur"
      },
      "source": [
        "kmedoids = KMedoids(metric=\"euclidean\",n_clusters=9, random_state=0).fit(X[0:20000])"
      ],
      "execution_count": 110,
      "outputs": []
    },
    {
      "cell_type": "code",
      "metadata": {
        "colab": {
          "base_uri": "https://localhost:8080/"
        },
        "id": "Jv_BiJTzQFQa",
        "outputId": "aa13ef08-b2ca-41ee-dd48-d9b9b4f3c8fa"
      },
      "source": [
        "kmedoids.labels_"
      ],
      "execution_count": 111,
      "outputs": [
        {
          "output_type": "execute_result",
          "data": {
            "text/plain": [
              "array([5, 0, 3, ..., 2, 0, 1])"
            ]
          },
          "metadata": {},
          "execution_count": 111
        }
      ]
    },
    {
      "cell_type": "code",
      "metadata": {
        "colab": {
          "base_uri": "https://localhost:8080/"
        },
        "id": "3YG79VjvRJ2R",
        "outputId": "fb04106e-383f-4622-fe84-45e378bb14dd"
      },
      "source": [
        "import collections\n",
        "clusters=collections.Counter(kmedoids.labels_)\n",
        "for i in range(0,10):\n",
        "  print(f'Le cluster {i} contient {np.around((clusters[i]/20000)*100,2)}% des données')"
      ],
      "execution_count": 112,
      "outputs": [
        {
          "output_type": "stream",
          "name": "stdout",
          "text": [
            "Le cluster 0 contient 16.4% des données\n",
            "Le cluster 1 contient 11.9% des données\n",
            "Le cluster 2 contient 12.39% des données\n",
            "Le cluster 3 contient 10.22% des données\n",
            "Le cluster 4 contient 8.45% des données\n",
            "Le cluster 5 contient 13.62% des données\n",
            "Le cluster 6 contient 5.38% des données\n",
            "Le cluster 7 contient 12.67% des données\n",
            "Le cluster 8 contient 8.96% des données\n",
            "Le cluster 9 contient 0.0% des données\n"
          ]
        }
      ]
    },
    {
      "cell_type": "code",
      "metadata": {
        "colab": {
          "base_uri": "https://localhost:8080/"
        },
        "id": "ie43Cpe3QLUq",
        "outputId": "74323792-37c9-43aa-b57a-dfb3e13cabb5"
      },
      "source": [
        "acc=np.zeros(10)\n",
        "nb_labels= collections.Counter(y_train[0:20000])\n",
        "print(collections.Counter(y_train[0:20000]),nb_labels[1])\n",
        "\n",
        "for i in range(len(kmedoids.labels_)):\n",
        "  if kmedoids.labels_[i]==y_train[i]:\n",
        "    acc[kmedoids.labels_[i]]+=1\n",
        "for i in range(0,10):\n",
        "  acc[i]/=nb_labels[i]\n",
        "  acc[i]*=100\n",
        "\n",
        "for i in range(0,10):\n",
        "  print(f\"L'accuracy d'entrainement sur le digit {i} est de {np.around(acc[i],1)}%\")\n",
        "print(\"Accuracy totale\",np.round((np.sum(acc)/10),3),\"%\")\n"
      ],
      "execution_count": 114,
      "outputs": [
        {
          "output_type": "stream",
          "name": "stdout",
          "text": [
            "Counter({1: 2281, 7: 2093, 3: 2076, 9: 2014, 0: 1994, 6: 1971, 4: 1945, 2: 1929, 8: 1922, 5: 1775}) 2281\n",
            "L'accuracy d'entrainement sur le digit 0 est de 30.0%\n",
            "L'accuracy d'entrainement sur le digit 1 est de 42.4%\n",
            "L'accuracy d'entrainement sur le digit 2 est de 10.6%\n",
            "L'accuracy d'entrainement sur le digit 3 est de 4.4%\n",
            "L'accuracy d'entrainement sur le digit 4 est de 9.7%\n",
            "L'accuracy d'entrainement sur le digit 5 est de 36.5%\n",
            "L'accuracy d'entrainement sur le digit 6 est de 1.1%\n",
            "L'accuracy d'entrainement sur le digit 7 est de 20.5%\n",
            "L'accuracy d'entrainement sur le digit 8 est de 4.4%\n",
            "L'accuracy d'entrainement sur le digit 9 est de 0.0%\n",
            "Accuracy totale 15.979 %\n"
          ]
        }
      ]
    },
    {
      "cell_type": "code",
      "metadata": {
        "colab": {
          "base_uri": "https://localhost:8080/"
        },
        "id": "2om7WnUPT-p8",
        "outputId": "a8057cb6-f7f5-4450-e816-e9a240782940"
      },
      "source": [
        "X_t = X_test.reshape(len(X_test),-1)\n",
        "pred=kmedoids.predict(X_t)\n",
        "pred"
      ],
      "execution_count": 115,
      "outputs": [
        {
          "output_type": "execute_result",
          "data": {
            "text/plain": [
              "array([7, 2, 1, ..., 7, 7, 7])"
            ]
          },
          "metadata": {},
          "execution_count": 115
        }
      ]
    },
    {
      "cell_type": "code",
      "metadata": {
        "colab": {
          "base_uri": "https://localhost:8080/"
        },
        "id": "ix2M3gFAUi7c",
        "outputId": "9f4bce30-3da0-4451-ea06-972f8c1e6706"
      },
      "source": [
        "acc=np.zeros(10)\n",
        "print(collections.Counter(y_test[0:20000]),nb_labels[1])\n",
        "nb_labels= collections.Counter(y_test[0:20000])\n",
        "for i in range(len(pred)):\n",
        "  if pred[i]==y_train[i]:\n",
        "    acc[pred[i]]+=1\n",
        "for i in range(0,10):\n",
        "  acc[i]/=nb_labels[i]\n",
        "  acc[i]*=100\n",
        "\n",
        "for i in range(0,10):\n",
        "  print(f\"L'accuracy de test sur le digit {i} est de {np.around(acc[i],1)}%\")\n",
        "print(\"Accuracy totale\",np.round((np.sum(acc)/10),3),\"%\")"
      ],
      "execution_count": 116,
      "outputs": [
        {
          "output_type": "stream",
          "name": "stdout",
          "text": [
            "Counter({1: 1135, 2: 1032, 7: 1028, 3: 1010, 9: 1009, 4: 982, 0: 980, 8: 974, 6: 958, 5: 892}) 2281\n",
            "L'accuracy de test sur le digit 0 est de 0.0%\n",
            "L'accuracy de test sur le digit 1 est de 8.2%\n",
            "L'accuracy de test sur le digit 2 est de 5.9%\n",
            "L'accuracy de test sur le digit 3 est de 0.0%\n",
            "L'accuracy de test sur le digit 4 est de 16.9%\n",
            "L'accuracy de test sur le digit 5 est de 0.0%\n",
            "L'accuracy de test sur le digit 6 est de 5.6%\n",
            "L'accuracy de test sur le digit 7 est de 68.8%\n",
            "L'accuracy de test sur le digit 8 est de 0.0%\n",
            "L'accuracy de test sur le digit 9 est de 0.0%\n",
            "Accuracy totale 10.542 %\n"
          ]
        }
      ]
    },
    {
      "cell_type": "markdown",
      "metadata": {
        "id": "2noL5kFkVNzs"
      },
      "source": [
        "Comparaison avec le k-means"
      ]
    },
    {
      "cell_type": "code",
      "metadata": {
        "id": "usy19IR7VNT7"
      },
      "source": [
        "kmeans = KMeans(n_clusters=9, random_state=0).fit(X[0:20000])"
      ],
      "execution_count": 117,
      "outputs": []
    },
    {
      "cell_type": "code",
      "metadata": {
        "colab": {
          "base_uri": "https://localhost:8080/"
        },
        "id": "3XPWB0f2VMYk",
        "outputId": "1d558305-18fd-42a7-e638-e2102733f1b3"
      },
      "source": [
        "acc=np.zeros(10)\n",
        "nb_labels= collections.Counter(y_train[0:20000])\n",
        "print(collections.Counter(y_train[0:20000]),nb_labels[1])\n",
        "\n",
        "for i in range(len(kmeans.labels_)):\n",
        "  if kmeans.labels_[i]==y_train[i]:\n",
        "    acc[kmeans.labels_[i]]+=1\n",
        "for i in range(0,10):\n",
        "  acc[i]/=nb_labels[i]\n",
        "  acc[i]*=100\n",
        "\n",
        "for i in range(0,10):\n",
        "  print(f\"L'accuracy d'entrainement sur le digit {i} est de {np.around(acc[i],1)}%\")\n",
        "print(\"Accuracy totale\",np.round((np.sum(acc)/10),3),\"%\")\n"
      ],
      "execution_count": 118,
      "outputs": [
        {
          "output_type": "stream",
          "name": "stdout",
          "text": [
            "Counter({1: 2281, 7: 2093, 3: 2076, 9: 2014, 0: 1994, 6: 1971, 4: 1945, 2: 1929, 8: 1922, 5: 1775}) 1135\n",
            "L'accuracy d'entrainement sur le digit 0 est de 0.6%\n",
            "L'accuracy d'entrainement sur le digit 1 est de 0.0%\n",
            "L'accuracy d'entrainement sur le digit 2 est de 1.0%\n",
            "L'accuracy d'entrainement sur le digit 3 est de 0.8%\n",
            "L'accuracy d'entrainement sur le digit 4 est de 0.5%\n",
            "L'accuracy d'entrainement sur le digit 5 est de 2.0%\n",
            "L'accuracy d'entrainement sur le digit 6 est de 1.2%\n",
            "L'accuracy d'entrainement sur le digit 7 est de 7.3%\n",
            "L'accuracy d'entrainement sur le digit 8 est de 24.2%\n",
            "L'accuracy d'entrainement sur le digit 9 est de 0.0%\n",
            "Accuracy totale 3.756 %\n"
          ]
        }
      ]
    },
    {
      "cell_type": "code",
      "metadata": {
        "id": "ZJ1X3jrcVxhp"
      },
      "source": [
        "pred2=kmeans.predict(X_t)"
      ],
      "execution_count": 119,
      "outputs": []
    },
    {
      "cell_type": "code",
      "metadata": {
        "colab": {
          "base_uri": "https://localhost:8080/"
        },
        "id": "f0c3rgDnV4Fo",
        "outputId": "1f85a851-cd28-463b-faac-099b2c84a76a"
      },
      "source": [
        "acc=np.zeros(10)\n",
        "nb_labels= collections.Counter(y_test[0:20000])\n",
        "print(collections.Counter(y_test[0:20000]),nb_labels[1])\n",
        "\n",
        "for i in range(len(pred2)):\n",
        "  if pred2[i]==y_train[i]:\n",
        "    acc[pred2[i]]+=1\n",
        "for i in range(0,10):\n",
        "  acc[i]/=nb_labels[i]\n",
        "  acc[i]*=100\n",
        "\n",
        "for i in range(0,10):\n",
        "  print(f\"L'accuracy de test sur le digit {i} est de {np.around(acc[i],1)}%\")\n",
        "print(\"Accuracy totale\",np.round((np.sum(acc)/10),3),\"%\")"
      ],
      "execution_count": 120,
      "outputs": [
        {
          "output_type": "stream",
          "name": "stdout",
          "text": [
            "Counter({1: 1135, 2: 1032, 7: 1028, 3: 1010, 9: 1009, 4: 982, 0: 980, 8: 974, 6: 958, 5: 892}) 1135\n",
            "L'accuracy de test sur le digit 0 est de 11.2%\n",
            "L'accuracy de test sur le digit 1 est de 7.0%\n",
            "L'accuracy de test sur le digit 2 est de 17.7%\n",
            "L'accuracy de test sur le digit 3 est de 12.1%\n",
            "L'accuracy de test sur le digit 4 est de 17.0%\n",
            "L'accuracy de test sur le digit 5 est de 6.7%\n",
            "L'accuracy de test sur le digit 6 est de 6.2%\n",
            "L'accuracy de test sur le digit 7 est de 3.4%\n",
            "L'accuracy de test sur le digit 8 est de 11.5%\n",
            "L'accuracy de test sur le digit 9 est de 0.0%\n",
            "Accuracy totale 9.288 %\n"
          ]
        }
      ]
    },
    {
      "cell_type": "markdown",
      "metadata": {
        "id": "w45v-MDQoVzQ"
      },
      "source": [
        "# **Conclusion**"
      ]
    },
    {
      "cell_type": "markdown",
      "metadata": {
        "id": "YFZiQc1CoZdw"
      },
      "source": [
        "|   | Avantages | Inconvénients |\n",
        "| --- | --- | --- |\n",
        "| K-Means | Moins complexe (complexité linéaire pour n)  |-sensible aux valeurs aberrantes |\n",
        "|  | | - moins robuste que K-medoids |\n",
        "| K-Medoids | Robuste au bruit et aux valeurs aberrantes   ||\n",
        "|  | (minimise une somme de dissimiliarité générales par paires au lieu d'une somme de distances euclediennes au carré)  |-Complexité quadratique|\n",
        "|  | Réduit le bruit | |\n",
        "\n",
        "\n",
        "\n",
        "---\n",
        "\n",
        "\n",
        "\n",
        "\n"
      ]
    }
  ]
}